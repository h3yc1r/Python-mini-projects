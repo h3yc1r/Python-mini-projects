{
  "nbformat": 4,
  "nbformat_minor": 0,
  "metadata": {
    "colab": {
      "provenance": [],
      "authorship_tag": "ABX9TyMNni7XcZOgFLvP8DTVaKsf",
      "include_colab_link": true
    },
    "kernelspec": {
      "name": "python3",
      "display_name": "Python 3"
    },
    "language_info": {
      "name": "python"
    }
  },
  "cells": [
    {
      "cell_type": "markdown",
      "metadata": {
        "id": "view-in-github",
        "colab_type": "text"
      },
      "source": [
        "<a href=\"https://colab.research.google.com/github/h3yc1r/Purchasingcarwithlists/blob/main/purchasecar.ipynb\" target=\"_parent\"><img src=\"https://colab.research.google.com/assets/colab-badge.svg\" alt=\"Open In Colab\"/></a>"
      ]
    },
    {
      "cell_type": "code",
      "source": [
        "#Author: Hacer AFLAZ\n",
        "#Purchasing the car that you want\n",
        "\n",
        "cars = [\n",
        "    {\"brand\": \"renault\", \"model\": \"clio\", \"engine_capacity\": 1400, \"year\": 2006, \"price\": 253000, \"hp\": \"90\"},\n",
        "    {\"brand\": \"renault\", \"model\": \"laguna\", \"engine_capacity\": 1600, \"year\": 2004, \"price\": 260000, \"hp\": \"115\"},\n",
        "    {\"brand\": \"fiat\", \"model\": \"albea\", \"engine_capacity\": 1400, \"year\": 2012, \"price\": 175000, \"hp\": \"77\"},\n",
        "    {\"brand\": \"fiat\", \"model\": \"tempra\", \"engine_capacity\": 1600, \"year\": 1999, \"price\": 280000, \"hp\": \"90\"},\n",
        "    {\"brand\": \"fiat\", \"model\": \"punto\", \"engine_capacity\": 1400, \"year\": 2017, \"price\": 439000, \"hp\": \"77\"},\n",
        "    {\"brand\": \"renault\", \"model\": \"megane\", \"engine_capacity\": 1600, \"year\": 1998, \"price\": 183000, \"hp\": \"90\"},\n",
        "    {\"brand\": \"renault\", \"model\": \"symbol\", \"engine_capacity\": 1400, \"year\": 2008, \"price\": 228000, \"hp\": \"75\"},\n",
        "    {\"brand\": \"ford\", \"model\": \"escort\", \"engine_capacity\": 1600, \"year\": 2000, \"price\": 210000, \"hp\": \"75\"}\n",
        "]\n",
        "\n",
        "brand_list = []\n",
        "\n",
        "for car in cars:\n",
        "    if car[\"brand\"] not in brand_list:\n",
        "        brand_list.append(car[\"brand\"])\n",
        "\n",
        "while True:\n",
        "    for i in range(len(brand_list)):\n",
        "        print(i+1, brand_list[i])\n",
        "\n",
        "    choice = int(input(\"Which brand would you like to select: \")) - 1\n",
        "\n",
        "    for car in cars:\n",
        "        if car[\"brand\"] == brand_list[choice]:\n",
        "            print(car[\"model\"], car[\"engine_capacity\"], car[\"year\"], car[\"price\"], car[\"hp\"])\n",
        "    \n",
        "    break"
      ],
      "metadata": {
        "id": "7rL1tR1adWdE"
      },
      "execution_count": null,
      "outputs": []
    }
  ]
}