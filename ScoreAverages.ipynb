{
  "nbformat": 4,
  "nbformat_minor": 0,
  "metadata": {
    "colab": {
      "provenance": [],
      "authorship_tag": "ABX9TyPwXV/ESeVMh481Pdzr0KfZ",
      "include_colab_link": true
    },
    "kernelspec": {
      "name": "python3",
      "display_name": "Python 3"
    },
    "language_info": {
      "name": "python"
    }
  },
  "cells": [
    {
      "cell_type": "markdown",
      "metadata": {
        "id": "view-in-github",
        "colab_type": "text"
      },
      "source": [
        "<a href=\"https://colab.research.google.com/github/h3yc1r/CalculatingScoreAvargeofStudents/blob/main/ScoreAverages.ipynb\" target=\"_parent\"><img src=\"https://colab.research.google.com/assets/colab-badge.svg\" alt=\"Open In Colab\"/></a>"
      ]
    },
    {
      "cell_type": "code",
      "source": [
        "#Author: Hacer AFLAZ\n",
        "#Calculating Average of Students\n",
        "\n",
        " #Create dictionaries \n",
        "first_grade = {\n",
        "    \"Alice\": {\"Math\": 80, \"Science\": 75, \"English\": 90},\n",
        "    \"Bob\": {\"Math\": 85, \"Science\": 90, \"English\": 80},\n",
        "    \"Charlie\": {\"Math\": 95, \"Science\": 85, \"English\": 75}\n",
        "            }\n",
        "f_average={}\n",
        "\n",
        "third_grade = {\n",
        "    \"Alice\": {\"History\": 70, \"Geography\": 80},\n",
        "    \"Bob\": {\"History\": 75, \"Geography\": 85},\n",
        "    \"Charlie\": {\"History\": 80, \"Geography\": 90}\n",
        "            }\n",
        "            \n",
        "t_average={}           \n",
        "\n",
        "for i,j in first_grade.items():\n",
        "    total_score=sum(j.values())\n",
        "    average_score=total_score/len(j) #Calculated avarage score by dividind the subjects(j)\n",
        "    f_average[i]=average_score  # Added avarage_score to the dictionary correctly\n",
        "\n",
        "print(f_average)\n",
        "\n",
        "for i,j in third_grade.items():\n",
        "    total_score=sum(j.values())\n",
        "    average_score=total_score/len(j) \n",
        "    t_average[i]=average_score\n",
        "\n",
        "print(t_average)   \n",
        "\n"
      ],
      "metadata": {
        "id": "AfGMWeI_Qa50",
        "colab": {
          "base_uri": "https://localhost:8080/"
        },
        "outputId": "53851b32-6544-4bee-93f2-907b17e69f1b"
      },
      "execution_count": 1,
      "outputs": [
        {
          "output_type": "stream",
          "name": "stdout",
          "text": [
            "{'Alice': 81.66666666666667, 'Bob': 85.0, 'Charlie': 85.0}\n",
            "{'Alice': 75.0, 'Bob': 80.0, 'Charlie': 85.0}\n"
          ]
        }
      ]
    }
  ]
}